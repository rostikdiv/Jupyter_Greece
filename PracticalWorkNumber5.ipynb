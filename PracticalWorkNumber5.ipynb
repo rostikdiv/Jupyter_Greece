{
 "cells": [
  {
   "cell_type": "markdown",
   "id": "22ca3c48-fb8e-4ef8-9232-18afe6d0d2d1",
   "metadata": {},
   "source": [
    "# Греція\n",
    "\n",
    "## Загальна інформація\n",
    "**Офіційна назва**: *Грецька Республіка*  \n",
    "**Площа**: <span style=\"color: blue;\">131,957 км²</span>  \n",
    "**Населення**: ~10,5 млн осіб (2023)  \n",
    "**Столиця**: Афіни\n",
    "\n",
    "## Державний устрій\n",
    "- Форма правління: *Парламентська республіка*\n",
    "- Глава держави: Президент Катерина Сакелларопулу\n",
    "- Глава уряду: Прем'єр-міністр Кіріакос Міцотакіс\n",
    "\n",
    "## Видатні персоналії\n",
    "- **Арістотель** — філософ, учень Платона, вчитель Олександра Македонського.\n",
    "- **Марія Каллас** — всесвітньо відома оперна співачка.\n",
    "- **Константінос Караманліс** — визначний політик, засновник сучасної грецької демократії.\n",
    "\n",
    "## Пам’ятки культури та природи\n",
    "- **Акрополь в Афінах**  \n",
    "  ![Акрополь](https://upload.wikimedia.org/wikipedia/commons/thumb/5/5c/Acropolis_of_Athens_2019.jpg/800px-Acropolis_of_Athens_2019.jpg)\n",
    "- **Острів Санторіні**  \n",
    "  <img src=\"https://upload.wikimedia.org/wikipedia/commons/thumb/d/d9/Santorini_Oia_sunrise.jpg/800px-Santorini_Oia_sunrise.jpg\" alt=\"Острів Санторіні\" width=\"300\"/>\n",
    "- **Метеора**  \n",
    "  [Дізнайтесь більше про Метеори](https://en.wikipedia.org/wiki/Meteora)\n",
    "\n",
    "## Таблиця основних міст\n",
    "| Місто      | Населення | Особливості                      |\n",
    "|------------|-----------|----------------------------------|\n",
    "| Афіни      | ~3.2 млн  | Столиця, історичний центр         |\n",
    "| Салоніки   | ~800 тис  | Велике портове та культурне місто |\n",
    "| Патри      | ~200 тис  | Відомий університет і порт        |\n",
    "\n",
    "## Вкладений список\n",
    "- Географія\n",
    "  - Континент: Європа\n",
    "  - Океан: Середземне море\n",
    "- Культура\n",
    "  - Давньогрецька спадщина\n",
    "  - Сучасне мистецтво та музика\n"
   ]
  },
  {
   "cell_type": "markdown",
   "id": "7231f28e-4868-483d-aa10-a3980112ffd0",
   "metadata": {},
   "source": [
    "### Формула площі\n",
    "Площа Греції:  \n",
    "$$ A = 131,937 \\, \\text{км}^2 $$"
   ]
  },
  {
   "cell_type": "code",
   "execution_count": 1,
   "id": "3768ce21-723f-4a62-8d2d-cf8faae74798",
   "metadata": {},
   "outputs": [
    {
     "data": {
      "text/html": [
       "<svg width=\"600\" height=\"400\" xmlns=\"http://www.w3.org/2000/svg\">\n",
       "    <!-- Горизонтальні смуги (9 смуг: 5 синіх, 4 білі) -->\n",
       "    <rect width=\"600\" height=\"44.44\" y=\"0\" fill=\"#0D5EAF\"/>\n",
       "    <rect width=\"600\" height=\"44.44\" y=\"44.44\" fill=\"#FFFFFF\"/>\n",
       "    <rect width=\"600\" height=\"44.44\" y=\"88.88\" fill=\"#0D5EAF\"/>\n",
       "    <rect width=\"600\" height=\"44.44\" y=\"133.32\" fill=\"#FFFFFF\"/>\n",
       "    <rect width=\"600\" height=\"44.44\" y=\"177.76\" fill=\"#0D5EAF\"/>\n",
       "    <rect width=\"600\" height=\"44.44\" y=\"222.20\" fill=\"#FFFFFF\"/>\n",
       "    <rect width=\"600\" height=\"44.44\" y=\"266.64\" fill=\"#0D5EAF\"/>\n",
       "    <rect width=\"600\" height=\"44.44\" y=\"311.08\" fill=\"#FFFFFF\"/>\n",
       "    <rect width=\"600\" height=\"44.44\" y=\"355.52\" fill=\"#0D5EAF\"/>\n",
       "\n",
       "    <!-- Синій квадрат із хрестом -->\n",
       "    <rect width=\"200\" height=\"200\" x=\"0\" y=\"0\" fill=\"#0D5EAF\"/>\n",
       "    <!-- Білий хрест -->\n",
       "    <rect width=\"200\" height=\"40\" x=\"0\" y=\"80\" fill=\"#FFFFFF\"/>\n",
       "    <rect width=\"40\" height=\"200\" x=\"80\" y=\"0\" fill=\"#FFFFFF\"/>\n",
       "</svg>\n"
      ],
      "text/plain": [
       "<IPython.core.display.HTML object>"
      ]
     },
     "metadata": {},
     "output_type": "display_data"
    }
   ],
   "source": [
    "%%html\n",
    "<svg width=\"600\" height=\"400\" xmlns=\"http://www.w3.org/2000/svg\">\n",
    "    <!-- Горизонтальні смуги (9 смуг: 5 синіх, 4 білі) -->\n",
    "    <rect width=\"600\" height=\"44.44\" y=\"0\" fill=\"#0D5EAF\"/>\n",
    "    <rect width=\"600\" height=\"44.44\" y=\"44.44\" fill=\"#FFFFFF\"/>\n",
    "    <rect width=\"600\" height=\"44.44\" y=\"88.88\" fill=\"#0D5EAF\"/>\n",
    "    <rect width=\"600\" height=\"44.44\" y=\"133.32\" fill=\"#FFFFFF\"/=>\n",
    "    <rect width=\"600\" height=\"44.44\" y=\"177.76\" fill=\"#0D5EAF\"/>\n",
    "    <rect width=\"600\" height=\"44.44\" y=\"222.20\" fill=\"#FFFFFF\"/>\n",
    "    <rect width=\"600\" height=\"44.44\" y=\"266.64\" fill=\"#0D5EAF\"/>\n",
    "    <rect width=\"600\" height=\"44.44\" y=\"311.08\" fill=\"#FFFFFF\"/>\n",
    "    <rect width=\"600\" height=\"44.44\" y=\"355.52\" fill=\"#0D5EAF\"/>\n",
    "\n",
    "    <!-- Синій квадрат із хрестом -->\n",
    "    <rect width=\"200\" height=\"200\" x=\"0\" y=\"0\" fill=\"#0D5EAF\"/>\n",
    "    <!-- Білий хрест -->\n",
    "    <rect width=\"200\" height=\"40\" x=\"0\" y=\"80\" fill=\"#FFFFFF\"/>\n",
    "    <rect width=\"40\" height=\"200\" x=\"80\" y=\"0\" fill=\"#FFFFFF\"/>\n",
    "</svg>"
   ]
  },
  {
   "cell_type": "code",
   "execution_count": 2,
   "id": "93ab2f34-0e38-4891-a767-9ec6ab9ff053",
   "metadata": {},
   "outputs": [
    {
     "name": "stdout",
     "output_type": "stream",
     "text": [
      "Тест 1:\n",
      "Число 6 можна представити як 3+3\n",
      "\n",
      "Тест 2:\n",
      "Число 28 можна представити як 5+23\n",
      "\n",
      "Тест 3 (неправильне введення):\n",
      "Введіть ціле число!\n"
     ]
    }
   ],
   "source": [
    "def is_prime(n):\n",
    "    \"\"\"Перевіряє, чи є число простим.\"\"\"\n",
    "    if n < 2:\n",
    "        return False\n",
    "    for i in range(2, int(n ** 0.5) + 1):\n",
    "        if n % i == 0:\n",
    "            return False\n",
    "    return True\n",
    "\n",
    "def task_1():\n",
    "    \"\"\"Перевіряє гіпотезу Гольдбаха: парне число = сума двох простих чисел.\"\"\"\n",
    "    # Введення числа\n",
    "    try:\n",
    "        num = int(input(\"Введіть парне число (більше 2): \"))\n",
    "        if num <= 2:\n",
    "            print(\"Число має бути більше 2!\")\n",
    "            return\n",
    "        if num % 2 != 0:\n",
    "            print(\"Число має бути парним!\")\n",
    "            return\n",
    "    except ValueError:\n",
    "        print(\"Введіть ціле число!\")\n",
    "        return\n",
    "\n",
    "    # Пошук двох простих чисел\n",
    "    for i in range(2, num):\n",
    "        if is_prime(i):\n",
    "            j = num - i\n",
    "            if is_prime(j):\n",
    "                print(f\"Число {num} можна представити як {i}+{j}\")\n",
    "                return\n",
    "\n",
    "# Тестові приклади\n",
    "print(\"Тест 1:\")\n",
    "# Імітація введення числа 6\n",
    "num = 6\n",
    "for i in range(2, num):\n",
    "    if is_prime(i):\n",
    "        j = num - i\n",
    "        if is_prime(j):\n",
    "            print(f\"Число {num} можна представити як {i}+{j}\")\n",
    "            break\n",
    "\n",
    "print(\"\\nТест 2:\")\n",
    "# Імітація введення числа 28\n",
    "num = 28\n",
    "for i in range(2, num):\n",
    "    if is_prime(i):\n",
    "        j = num - i\n",
    "        if is_prime(j):\n",
    "            print(f\"Число {num} можна представити як {i}+{j}\")\n",
    "            break\n",
    "\n",
    "print(\"\\nТест 3 (неправильне введення):\")\n",
    "# Імітація неправильного введення\n",
    "try:\n",
    "    num = int(\"abc\")\n",
    "except ValueError:\n",
    "    print(\"Введіть ціле число!\")"
   ]
  },
  {
   "cell_type": "code",
   "execution_count": null,
   "id": "3550d762-3c62-4364-93c3-c1f2da874fb7",
   "metadata": {},
   "outputs": [],
   "source": []
  }
 ],
 "metadata": {
  "kernelspec": {
   "display_name": "Python 3 (ipykernel)",
   "language": "python",
   "name": "python3"
  },
  "language_info": {
   "codemirror_mode": {
    "name": "ipython",
    "version": 3
   },
   "file_extension": ".py",
   "mimetype": "text/x-python",
   "name": "python",
   "nbconvert_exporter": "python",
   "pygments_lexer": "ipython3",
   "version": "3.12.9"
  }
 },
 "nbformat": 4,
 "nbformat_minor": 5
}
